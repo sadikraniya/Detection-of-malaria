{
 "cells": [
  {
   "cell_type": "code",
   "execution_count": 1,
   "metadata": {
    "_cell_guid": "b1076dfc-b9ad-4769-8c92-a6c4dae69d19",
    "_uuid": "8f2839f25d086af736a60e9eeb907d3b93b6e0e5"
   },
   "outputs": [
    {
     "name": "stdout",
     "output_type": "stream",
     "text": [
      "['cell_images']\n"
     ]
    }
   ],
   "source": [
    "# This Python 3 environment comes with many helpful analytics libraries installed\n",
    "# It is defined by the kaggle/python docker image: https://github.com/kaggle/docker-python\n",
    "# For example, here's several helpful packages to load in \n",
    "\n",
    "import numpy as np # linear algebra\n",
    "import pandas as pd # data processing, CSV file I/O (e.g. pd.read_csv)\n",
    "\n",
    "import tensorflow as tf\n",
    "\n",
    "from tensorflow.keras.applications.densenet import DenseNet169, DenseNet201, DenseNet121\n",
    "from tensorflow.keras.layers import Input, Flatten, Dense, BatchNormalization, Activation, Dropout, GlobalAveragePooling2D, GlobalMaxPooling2D, Concatenate\n",
    "from tensorflow.keras.models import Model, load_model\n",
    "from tensorflow.keras import losses, optimizers, activations, metrics\n",
    "from tensorflow.keras.preprocessing.image import ImageDataGenerator\n",
    "\n",
    "# Input data files are available in the \"../input/\" directory.\n",
    "# For example, running this (by clicking run or pressing Shift+Enter) will list the files in the input directory\n",
    "\n",
    "from PIL import Image\n",
    "\n",
    "import os\n",
    "from time import time\n",
    "\n",
    "print(os.listdir(\"../input\"))\n",
    "\n",
    "INPUT_SHAPE = (50, 50, 3)\n",
    "\n",
    "DATA_PATH = os.path.join(\"../input/\", \"cell_images/cell_images\")\n",
    "\n",
    "# Any results you write to the current directory are saved as output."
   ]
  },
  {
   "cell_type": "code",
   "execution_count": 2,
   "metadata": {},
   "outputs": [],
   "source": [
    "infected = os.listdir('../input/cell_images/cell_images/Parasitized/') \n",
    "uninfected = os.listdir('../input/cell_images/cell_images/Uninfected/')\n",
    "\n",
    "import matplotlib.pyplot as plt\n",
    "import seaborn as sns\n",
    "import cv2"
   ]
  },
  {
   "cell_type": "code",
   "execution_count": 3,
   "metadata": {},
   "outputs": [
    {
     "name": "stdout",
     "output_type": "stream",
     "text": [
      "\n",
      "\n"
     ]
    }
   ],
   "source": [
    "data = []\n",
    "labels = []\n",
    "\n",
    "for i in infected:\n",
    "    try:\n",
    "    \n",
    "        image = cv2.imread(\"../input/cell_images/cell_images/Parasitized/\"+i)\n",
    "        image_array = Image.fromarray(image , 'RGB')\n",
    "        resize_img = image_array.resize((50 , 50))\n",
    "        rotated45 = resize_img.rotate(45)\n",
    "        rotated75 = resize_img.rotate(75)\n",
    "        blur = cv2.blur(np.array(resize_img) ,(10,10))\n",
    "        data.append(np.array(resize_img))\n",
    "        data.append(np.array(rotated45))\n",
    "        data.append(np.array(rotated75))\n",
    "        data.append(np.array(blur))\n",
    "        labels.append(1)\n",
    "        labels.append(1)\n",
    "        labels.append(1)\n",
    "        labels.append(1)\n",
    "        \n",
    "    except AttributeError:\n",
    "        print('')\n",
    "    \n",
    "for u in uninfected:\n",
    "    try:\n",
    "        \n",
    "        image = cv2.imread(\"../input/cell_images/cell_images/Uninfected/\"+u)\n",
    "        image_array = Image.fromarray(image , 'RGB')\n",
    "        resize_img = image_array.resize((50 , 50))\n",
    "        rotated45 = resize_img.rotate(45)\n",
    "        rotated75 = resize_img.rotate(75)\n",
    "        data.append(np.array(resize_img))\n",
    "        data.append(np.array(rotated45))\n",
    "        data.append(np.array(rotated75))\n",
    "        labels.append(0)\n",
    "        labels.append(0)\n",
    "        labels.append(0)\n",
    "        \n",
    "    except AttributeError:\n",
    "        print('')"
   ]
  },
  {
   "cell_type": "code",
   "execution_count": 4,
   "metadata": {},
   "outputs": [],
   "source": [
    "cells = np.array(data)\n",
    "labels = np.array(labels)\n",
    "\n",
    "np.save('Cells' , cells)\n",
    "np.save('Labels' , labels)"
   ]
  },
  {
   "cell_type": "code",
   "execution_count": 5,
   "metadata": {},
   "outputs": [],
   "source": [
    "from sklearn.model_selection import train_test_split\n",
    "\n",
    "train_x , x , train_y , y = train_test_split(cells , labels , test_size = 0.2 , random_state = 111)\n",
    "\n",
    "eval_x , test_x , eval_y , test_y = train_test_split(x , y ,test_size = 0.5 , random_state = 111)"
   ]
  },
  {
   "cell_type": "code",
   "execution_count": 6,
   "metadata": {},
   "outputs": [
    {
     "data": {
      "image/png": "[encoded data removed]",
      "text/plain": [
       "<Figure size 1080x360 with 3 Axes>"
      ]
     },
     "metadata": {},
     "output_type": "display_data"
    }
   ],
   "source": [
    "plt.figure(1 , figsize = (15 ,5))\n",
    "n = 0 \n",
    "for z , j in zip([train_y , eval_y , test_y] , ['train labels','eval labels','test labels']):\n",
    "    n += 1\n",
    "    plt.subplot(1 , 3  , n)\n",
    "    sns.countplot(x = z )\n",
    "    plt.title(j)\n",
    "plt.show()"
   ]
  },
  {
   "cell_type": "code",
   "execution_count": 7,
   "metadata": {},
   "outputs": [],
   "source": [
    "from tensorflow.keras.applications.densenet import DenseNet169, DenseNet201, DenseNet121\n",
    "from tensorflow.keras.layers import Input, Flatten, Dense, BatchNormalization, Activation, Dropout, GlobalAveragePooling2D, GlobalMaxPooling2D, Concatenate\n",
    "from tensorflow.keras.models import Model, load_model\n",
    "from tensorflow.keras import losses, optimizers, activations, metrics"
   ]
  },
  {
   "cell_type": "code",
   "execution_count": 8,
   "metadata": {},
   "outputs": [],
   "source": [
    "class Densenet:\n",
    "    def __init__(self, loss, optmizer, metrics):\n",
    "        self.loss = loss\n",
    "        self.optimizer = optmizer\n",
    "        self.metrics = metrics\n",
    "    \n",
    "    def create_model(self, output_space: int) -> Model:\n",
    "        base_model = DenseNet121(input_shape=INPUT_SHAPE, include_top=False)\n",
    "        out0 = base_model.output\n",
    "        out1 = GlobalMaxPooling2D()(out0)\n",
    "        out2 = GlobalAveragePooling2D()(out0)\n",
    "        out3 = Flatten()(out0)\n",
    "        out = Concatenate(axis=-1)([out1, out2, out3])\n",
    "        out = Dropout(0.5)(out)\n",
    "        \n",
    "        predictions = Dense(output_space, activation=\"sigmoid\")(out)\n",
    "        \n",
    "        model = Model(inputs=base_model.input, outputs=predictions)\n",
    "\n",
    "        model.compile(loss=self.loss, optimizer=self.optimizer, metrics=self.metrics)\n",
    "        #model.summary()\n",
    "        return model"
   ]
  },
  {
   "cell_type": "code",
   "execution_count": 9,
   "metadata": {},
   "outputs": [
    {
     "name": "stderr",
     "output_type": "stream",
     "text": [
      "Using TensorFlow backend.\n"
     ]
    }
   ],
   "source": [
    "from keras.callbacks import LearningRateScheduler\n",
    "from keras.callbacks import ReduceLROnPlateau\n",
    "\n",
    "def step_decay(epoch):\n",
    "    initial_lrate = 0.1\n",
    "    drop = 0.5\n",
    "    epochs_drop = 2\n",
    "    lrate = initial_lrate * math.pow(drop, math.floor((1+epoch)/epochs_drop))\n",
    "    return lrate\n",
    "\n",
    "learning_rate = LearningRateScheduler(step_decay)\n",
    "\n",
    "rlrp = ReduceLROnPlateau(monitor='val_loss', factor=0.1, patience=10, min_delta=1e-7)\n",
    "\n",
    "callbacks_list = [learning_rate, rlrp]"
   ]
  },
  {
   "cell_type": "code",
   "execution_count": 10,
   "metadata": {},
   "outputs": [
    {
     "name": "stdout",
     "output_type": "stream",
     "text": [
      "WARNING:tensorflow:From /opt/conda/lib/python3.6/site-packages/tensorflow/python/ops/resource_variable_ops.py:435: colocate_with (from tensorflow.python.framework.ops) is deprecated and will be removed in a future version.\n",
      "Instructions for updating:\n",
      "Colocations handled automatically by placer.\n",
      "Downloading data from https://github.com/keras-team/keras-applications/releases/download/densenet/densenet121_weights_tf_dim_ordering_tf_kernels_notop.h5\n",
      "29089792/29084464 [==============================] - 1s 0us/step\n",
      "WARNING:tensorflow:From /opt/conda/lib/python3.6/site-packages/tensorflow/python/keras/layers/core.py:143: calling dropout (from tensorflow.python.ops.nn_ops) with keep_prob is deprecated and will be removed in a future version.\n",
      "Instructions for updating:\n",
      "Please use `rate` instead of `keep_prob`. Rate should be set to `rate = 1 - keep_prob`.\n"
     ]
    }
   ],
   "source": [
    "model = Densenet(\n",
    "    losses.binary_crossentropy,\n",
    "    optimizers.Adam(lr=10e-5),\n",
    "    [\"accuracy\"]\n",
    ").create_model(1)"
   ]
  },
  {
   "cell_type": "code",
   "execution_count": 11,
   "metadata": {},
   "outputs": [
    {
     "name": "stdout",
     "output_type": "stream",
     "text": [
      "Train on 77162 samples, validate on 9645 samples\n",
      "WARNING:tensorflow:From /opt/conda/lib/python3.6/site-packages/tensorflow/python/ops/math_ops.py:3066: to_int32 (from tensorflow.python.ops.math_ops) is deprecated and will be removed in a future version.\n",
      "Instructions for updating:\n",
      "Use tf.cast instead.\n",
      "WARNING:tensorflow:From /opt/conda/lib/python3.6/site-packages/tensorflow/python/ops/math_grad.py:102: div (from tensorflow.python.ops.math_ops) is deprecated and will be removed in a future version.\n",
      "Instructions for updating:\n",
      "Deprecated in favor of operator or tf.math.divide.\n",
      "Epoch 1/30\n",
      "77162/77162 [==============================] - 67s 872us/sample - loss: 0.1826 - acc: 0.9302 - val_loss: 0.1174 - val_acc: 0.9603\n",
      "Epoch 2/30\n",
      "77162/77162 [==============================] - 40s 525us/sample - loss: 0.0795 - acc: 0.9723 - val_loss: 0.0882 - val_acc: 0.9711\n",
      "Epoch 3/30\n",
      "77162/77162 [==============================] - 40s 524us/sample - loss: 0.0526 - acc: 0.9815 - val_loss: 0.0832 - val_acc: 0.9707\n",
      "Epoch 4/30\n",
      "77162/77162 [==============================] - 40s 520us/sample - loss: 0.0340 - acc: 0.9880 - val_loss: 0.0948 - val_acc: 0.9710\n",
      "Epoch 5/30\n",
      "77162/77162 [==============================] - 41s 525us/sample - loss: 0.0217 - acc: 0.9920 - val_loss: 0.1050 - val_acc: 0.9703\n",
      "Epoch 6/30\n",
      "77162/77162 [==============================] - 40s 523us/sample - loss: 0.0174 - acc: 0.9939 - val_loss: 0.1328 - val_acc: 0.9715\n",
      "Epoch 7/30\n",
      "77162/77162 [==============================] - 40s 520us/sample - loss: 0.0148 - acc: 0.9946 - val_loss: 0.1228 - val_acc: 0.9724\n",
      "Epoch 8/30\n",
      "77162/77162 [==============================] - 40s 524us/sample - loss: 0.0100 - acc: 0.9965 - val_loss: 0.1521 - val_acc: 0.9687\n",
      "Epoch 9/30\n",
      "77162/77162 [==============================] - 40s 522us/sample - loss: 0.0104 - acc: 0.9964 - val_loss: 0.1634 - val_acc: 0.9707\n",
      "Epoch 10/30\n",
      "77162/77162 [==============================] - 40s 523us/sample - loss: 0.0097 - acc: 0.9964 - val_loss: 0.1287 - val_acc: 0.9726\n",
      "Epoch 11/30\n",
      "77162/77162 [==============================] - 40s 520us/sample - loss: 0.0069 - acc: 0.9976 - val_loss: 0.1411 - val_acc: 0.9731\n",
      "Epoch 12/30\n",
      "77162/77162 [==============================] - 40s 522us/sample - loss: 0.0079 - acc: 0.9974 - val_loss: 0.1375 - val_acc: 0.9727\n",
      "Epoch 13/30\n",
      "77162/77162 [==============================] - 40s 519us/sample - loss: 0.0060 - acc: 0.9979 - val_loss: 0.1628 - val_acc: 0.9709\n",
      "Epoch 14/30\n",
      "77162/77162 [==============================] - 40s 523us/sample - loss: 0.0077 - acc: 0.9974 - val_loss: 0.1494 - val_acc: 0.9712\n",
      "Epoch 15/30\n",
      "77162/77162 [==============================] - 40s 523us/sample - loss: 0.0080 - acc: 0.9974 - val_loss: 0.1508 - val_acc: 0.9730\n",
      "Epoch 16/30\n",
      "77162/77162 [==============================] - 40s 518us/sample - loss: 0.0027 - acc: 0.9991 - val_loss: 0.1540 - val_acc: 0.9742\n",
      "Epoch 17/30\n",
      "77162/77162 [==============================] - 40s 524us/sample - loss: 0.0030 - acc: 0.9991 - val_loss: 0.1825 - val_acc: 0.9693\n",
      "Epoch 18/30\n",
      "77162/77162 [==============================] - 40s 524us/sample - loss: 0.0055 - acc: 0.9982 - val_loss: 0.1442 - val_acc: 0.9720\n",
      "Epoch 19/30\n",
      "77162/77162 [==============================] - 40s 520us/sample - loss: 0.0055 - acc: 0.9981 - val_loss: 0.1568 - val_acc: 0.9722\n",
      "Epoch 20/30\n",
      "77162/77162 [==============================] - 40s 521us/sample - loss: 0.0054 - acc: 0.9982 - val_loss: 0.1668 - val_acc: 0.9730\n",
      "Epoch 21/30\n",
      "77162/77162 [==============================] - 40s 523us/sample - loss: 0.0048 - acc: 0.9983 - val_loss: 0.1550 - val_acc: 0.9697\n",
      "Epoch 22/30\n",
      "77162/77162 [==============================] - 40s 521us/sample - loss: 0.0045 - acc: 0.9984 - val_loss: 0.1754 - val_acc: 0.9733\n",
      "Epoch 23/30\n",
      "77162/77162 [==============================] - 40s 524us/sample - loss: 0.0020 - acc: 0.9994 - val_loss: 0.1641 - val_acc: 0.9729\n",
      "Epoch 24/30\n",
      "77162/77162 [==============================] - 40s 525us/sample - loss: 0.0017 - acc: 0.9994 - val_loss: 0.1778 - val_acc: 0.9722\n",
      "Epoch 25/30\n",
      "77162/77162 [==============================] - 40s 518us/sample - loss: 0.0060 - acc: 0.9980 - val_loss: 0.1668 - val_acc: 0.9728\n",
      "Epoch 26/30\n",
      "77162/77162 [==============================] - 40s 523us/sample - loss: 0.0052 - acc: 0.9981 - val_loss: 0.1806 - val_acc: 0.9720\n",
      "Epoch 27/30\n",
      "77162/77162 [==============================] - 40s 524us/sample - loss: 0.0053 - acc: 0.9983 - val_loss: 0.1891 - val_acc: 0.9706\n",
      "Epoch 28/30\n",
      "77162/77162 [==============================] - 40s 519us/sample - loss: 0.0039 - acc: 0.9986 - val_loss: 0.1513 - val_acc: 0.9743\n",
      "Epoch 29/30\n",
      "77162/77162 [==============================] - 40s 523us/sample - loss: 0.0023 - acc: 0.9993 - val_loss: 0.1628 - val_acc: 0.9745\n",
      "Epoch 30/30\n",
      "77162/77162 [==============================] - 40s 522us/sample - loss: 0.0038 - acc: 0.9987 - val_loss: 0.1730 - val_acc: 0.9736\n"
     ]
    },
    {
     "data": {
      "text/plain": [
       "<tensorflow.python.keras.callbacks.History at 0x7fec29213080>"
      ]
     },
     "execution_count": 11,
     "metadata": {},
     "output_type": "execute_result"
    }
   ],
   "source": [
    "model.fit(train_x, train_y,\n",
    "          validation_data=(eval_x, eval_y),\n",
    "          batch_size=512,\n",
    "          epochs=30,\n",
    "          verbose=1)"
   ]
  },
  {
   "cell_type": "code",
   "execution_count": 12,
   "metadata": {},
   "outputs": [
    {
     "name": "stdout",
     "output_type": "stream",
     "text": [
      "9646/9646 [==============================] - 8s 786us/sample - loss: 0.1851 - acc: 0.9720\n",
      "\n",
      " Test_Accuracy:- 0.9720091\n"
     ]
    }
   ],
   "source": [
    "accuracy = model.evaluate(test_x, test_y, verbose=1)\n",
    "print('\\n', 'Test_Accuracy:-', accuracy[1])"
   ]
  },
  {
   "cell_type": "code",
   "execution_count": 13,
   "metadata": {},
   "outputs": [],
   "source": [
    "results = model.predict(test_x)"
   ]
  },
  {
   "cell_type": "code",
   "execution_count": 14,
   "metadata": {},
   "outputs": [],
   "source": [
    "results = np.argmax(results,axis=1)\n",
    "results = pd.Series(results,name=\"Label\")"
   ]
  },
  {
   "cell_type": "code",
   "execution_count": 15,
   "metadata": {},
   "outputs": [
    {
     "data": {
      "text/plain": [
       "9646"
      ]
     },
     "execution_count": 15,
     "metadata": {},
     "output_type": "execute_result"
    }
   ],
   "source": [
    "len(results)"
   ]
  },
  {
   "cell_type": "code",
   "execution_count": 16,
   "metadata": {},
   "outputs": [],
   "source": [
    "submission = pd.concat([pd.Series(range(1,9647),name = \"ImageId\"),results],axis = 1)\n",
    "\n",
    "submission.to_csv(\"submission.csv\",index=False)"
   ]
  }
 ],
 "metadata": {
  "kernelspec": {
   "display_name": "Python 3",
   "language": "python",
   "name": "python3"
  },
  "language_info": {
   "codemirror_mode": {
    "name": "ipython",
    "version": 3
   },
   "file_extension": ".py",
   "mimetype": "text/x-python",
   "name": "python",
   "nbconvert_exporter": "python",
   "pygments_lexer": "ipython3",
   "version": "3.6.4"
  }
 },
 "nbformat": 4,
 "nbformat_minor": 4
}
